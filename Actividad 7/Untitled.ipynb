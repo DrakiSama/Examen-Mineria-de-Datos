{
 "cells": [
  {
   "cell_type": "code",
   "execution_count": null,
   "id": "52002313",
   "metadata": {},
   "outputs": [],
   "source": [
    "#imports necesarios \n",
    "\n",
    "import keras\n",
    "from keras.models import Sequential\n",
    "from keras.layers import Dense\n",
    "from keras.wrappers.scikit_learn import KerasClassifier\n",
    "from sklearn.preprocessing import LabelEncoder, StandardScaler\n",
    "from sklearn.model_selection import train_test_split, StratifiedKFold, GridSearchCV, cross_val_score\n",
    "from sklearn.linear_model import LogisticRegression\n",
    "from sklearn.tree import DecisionTreeClassifier\n",
    "from sklearn.ensemble import RandomForestClassifier, AdaBoostClassifier\n",
    "from sklearn.metrics import confusion_matrix, accuracy_score, f1_score, roc_auc_score, roc_curve\n",
    "from sklearn.metrics import classification_report,precision_score, recall_score\n",
    "from sklearn.decomposition import PCA\n",
    "\n",
    "#estandarizados , Pueden utilizar los que quieran\n",
    "scaler = StandardScaler()\n",
    "#fitting estandarización solo en datos de entrenamiento\n",
    "scaler.fit(Xtrain)\n",
    "XtrainSTD = scaler.transform(Xtrain)\n",
    "XtestSTD = scaler.transform(Xtest)\n",
    "\n",
    "#PCA\n",
    "pca = PCA(n_components=50) #n = número de componentes\n",
    "pca.fit(XtrainSTD)\n",
    "XtrainPCA = pca.transform(XtrainSTD)\n",
    "XtestPCA = pca.transform(XtestSTD)\n",
    "XtrainPCA.shape\n",
    "\n",
    "#componentes principales\n",
    "\n",
    "PC = ['PC1','PC2','PC3','PC4','PC5','PC6','PC7','PC8','PC9','PC10',\n",
    "     'PC11','PC12','PC13','PC14','PC15','PC16','PC17','PC18','PC19','PC20',\n",
    "     'PC21','PC22','PC23','PC24','PC25','PC26','PC27','PC28','PC29','PC30',\n",
    "     'PC31','PC32','PC33','PC34','PC35','PC36','PC37','PC38','PC39','PC40',\n",
    "     'PC41','PC42','PC43','PC44','PC45','PC46','PC47','PC48','PC49','PC50']\n",
    "pca_df = pd.DataFrame({'var':pca.explained_variance_ratio_, 'PC':PC})\n",
    "plt.figure(figsize=(30,10))\n",
    "sns.barplot(x='PC',y=\"var\", data=pca_df, color=\"c\");"
   ]
  }
 ],
 "metadata": {
  "kernelspec": {
   "display_name": "Python 3 (ipykernel)",
   "language": "python",
   "name": "python3"
  },
  "language_info": {
   "codemirror_mode": {
    "name": "ipython",
    "version": 3
   },
   "file_extension": ".py",
   "mimetype": "text/x-python",
   "name": "python",
   "nbconvert_exporter": "python",
   "pygments_lexer": "ipython3",
   "version": "3.9.7"
  }
 },
 "nbformat": 4,
 "nbformat_minor": 5
}
